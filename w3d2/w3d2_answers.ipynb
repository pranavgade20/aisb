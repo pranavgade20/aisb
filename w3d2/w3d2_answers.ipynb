{
 "cells": [
  {
   "metadata": {
    "ExecuteTime": {
     "end_time": "2025-08-19T15:16:18.085184Z",
     "start_time": "2025-08-19T15:16:14.924657Z"
    }
   },
   "cell_type": "code",
   "source": [
    "from w3d2.w3d2_solution import ModelPromptBuilder\n",
    "import torch\n",
    "import numpy as np\n",
    "import matplotlib.pyplot as plt\n",
    "from transformers import GPT2Tokenizer, GPT2LMHeadModel\n",
    "from tqdm import tqdm\n",
    "\n",
    "\n",
    "# 1. Load the model and tokenizer\n",
    "model_name=\"openai-community/gpt2\"\n",
    "print(f\"Loading model: {model_name}...\")\n",
    "tokenizer = GPT2Tokenizer.from_pretrained(model_name)\n",
    "model = GPT2LMHeadModel.from_pretrained(model_name)\n",
    "model.eval()\n",
    "\n",
    "def get_next_logits(input_ids):\n",
    "    \"\"\"\n",
    "    Get the logits for the next token given input_ids.\n",
    "    \"\"\"\n",
    "    assert input_ids.ndim == 2, \"Input IDs should be a 2D tensor (batch_size, sequence_length)\"\n",
    "    with torch.no_grad():\n",
    "        outputs = model(input_ids)\n",
    "        return outputs.logits[:, -1, :]\n",
    "\n",
    "# Set pad token if it's not set\n",
    "if tokenizer.pad_token is None:\n",
    "    tokenizer.pad_token = tokenizer.eos_token\n"
   ],
   "id": "6e7918d2799ffe61",
   "outputs": [
    {
     "name": "stdout",
     "output_type": "stream",
     "text": [
      "String: b'Hello world'\n",
      "Tokens: [9707, 1879]\n",
      "Token count: 2\n",
      "String: b'Hello, WoRlD'\n",
      "Tokens: [9707, 11, 27258, 49, 75, 35]\n",
      "Token count: 6\n",
      "String: b'Hello\\nworld'\n",
      "Tokens: [9707, 198, 14615]\n",
      "Token count: 3\n",
      "String: b'Hello\\n\\nworld'\n",
      "Tokens: [9707, 271, 14615]\n",
      "Token count: 3\n",
      "Prompt with apply_chat_template: <|im_start|>user\n",
      "What is the capital of Japan?<|im_end|>\n",
      "\n"
     ]
    },
    {
     "ename": "OSError",
     "evalue": "You are trying to access a gated repo.\nMake sure to have access to it at https://huggingface.co/meta-llama/Meta-Llama-3-8B-Instruct.\n403 Client Error. (Request ID: Root=1-68a49541-449bdf9d7fcf177953b5a9dc;8d99c9e8-f045-426a-9ebb-d12f1854ba16)\n\nCannot access gated repo for url https://huggingface.co/meta-llama/Meta-Llama-3-8B-Instruct/resolve/main/config.json.\nAccess to model meta-llama/Meta-Llama-3-8B-Instruct is restricted and you are not in the authorized list. Visit https://huggingface.co/meta-llama/Meta-Llama-3-8B-Instruct to ask for access.",
     "output_type": "error",
     "traceback": [
      "\u001B[31m---------------------------------------------------------------------------\u001B[39m",
      "\u001B[31mHTTPError\u001B[39m                                 Traceback (most recent call last)",
      "\u001B[36mFile \u001B[39m\u001B[32m/opt/homebrew/Caskroom/miniconda/base/envs/aisb/lib/python3.12/site-packages/huggingface_hub/utils/_http.py:409\u001B[39m, in \u001B[36mhf_raise_for_status\u001B[39m\u001B[34m(response, endpoint_name)\u001B[39m\n\u001B[32m    408\u001B[39m \u001B[38;5;28;01mtry\u001B[39;00m:\n\u001B[32m--> \u001B[39m\u001B[32m409\u001B[39m     response.raise_for_status()\n\u001B[32m    410\u001B[39m \u001B[38;5;28;01mexcept\u001B[39;00m HTTPError \u001B[38;5;28;01mas\u001B[39;00m e:\n",
      "\u001B[36mFile \u001B[39m\u001B[32m/opt/homebrew/Caskroom/miniconda/base/envs/aisb/lib/python3.12/site-packages/requests/models.py:1026\u001B[39m, in \u001B[36mResponse.raise_for_status\u001B[39m\u001B[34m(self)\u001B[39m\n\u001B[32m   1025\u001B[39m \u001B[38;5;28;01mif\u001B[39;00m http_error_msg:\n\u001B[32m-> \u001B[39m\u001B[32m1026\u001B[39m     \u001B[38;5;28;01mraise\u001B[39;00m HTTPError(http_error_msg, response=\u001B[38;5;28mself\u001B[39m)\n",
      "\u001B[31mHTTPError\u001B[39m: 403 Client Error: Forbidden for url: https://huggingface.co/meta-llama/Meta-Llama-3-8B-Instruct/resolve/main/config.json",
      "\nThe above exception was the direct cause of the following exception:\n",
      "\u001B[31mGatedRepoError\u001B[39m                            Traceback (most recent call last)",
      "\u001B[36mFile \u001B[39m\u001B[32m/opt/homebrew/Caskroom/miniconda/base/envs/aisb/lib/python3.12/site-packages/transformers/utils/hub.py:479\u001B[39m, in \u001B[36mcached_files\u001B[39m\u001B[34m(path_or_repo_id, filenames, cache_dir, force_download, resume_download, proxies, token, revision, local_files_only, subfolder, repo_type, user_agent, _raise_exceptions_for_gated_repo, _raise_exceptions_for_missing_entries, _raise_exceptions_for_connection_errors, _commit_hash, **deprecated_kwargs)\u001B[39m\n\u001B[32m    477\u001B[39m \u001B[38;5;28;01mif\u001B[39;00m \u001B[38;5;28mlen\u001B[39m(full_filenames) == \u001B[32m1\u001B[39m:\n\u001B[32m    478\u001B[39m     \u001B[38;5;66;03m# This is slightly better for only 1 file\u001B[39;00m\n\u001B[32m--> \u001B[39m\u001B[32m479\u001B[39m     hf_hub_download(\n\u001B[32m    480\u001B[39m         path_or_repo_id,\n\u001B[32m    481\u001B[39m         filenames[\u001B[32m0\u001B[39m],\n\u001B[32m    482\u001B[39m         subfolder=\u001B[38;5;28;01mNone\u001B[39;00m \u001B[38;5;28;01mif\u001B[39;00m \u001B[38;5;28mlen\u001B[39m(subfolder) == \u001B[32m0\u001B[39m \u001B[38;5;28;01melse\u001B[39;00m subfolder,\n\u001B[32m    483\u001B[39m         repo_type=repo_type,\n\u001B[32m    484\u001B[39m         revision=revision,\n\u001B[32m    485\u001B[39m         cache_dir=cache_dir,\n\u001B[32m    486\u001B[39m         user_agent=user_agent,\n\u001B[32m    487\u001B[39m         force_download=force_download,\n\u001B[32m    488\u001B[39m         proxies=proxies,\n\u001B[32m    489\u001B[39m         resume_download=resume_download,\n\u001B[32m    490\u001B[39m         token=token,\n\u001B[32m    491\u001B[39m         local_files_only=local_files_only,\n\u001B[32m    492\u001B[39m     )\n\u001B[32m    493\u001B[39m \u001B[38;5;28;01melse\u001B[39;00m:\n",
      "\u001B[36mFile \u001B[39m\u001B[32m/opt/homebrew/Caskroom/miniconda/base/envs/aisb/lib/python3.12/site-packages/huggingface_hub/utils/_validators.py:114\u001B[39m, in \u001B[36mvalidate_hf_hub_args.<locals>._inner_fn\u001B[39m\u001B[34m(*args, **kwargs)\u001B[39m\n\u001B[32m    112\u001B[39m     kwargs = smoothly_deprecate_use_auth_token(fn_name=fn.\u001B[34m__name__\u001B[39m, has_token=has_token, kwargs=kwargs)\n\u001B[32m--> \u001B[39m\u001B[32m114\u001B[39m \u001B[38;5;28;01mreturn\u001B[39;00m fn(*args, **kwargs)\n",
      "\u001B[36mFile \u001B[39m\u001B[32m/opt/homebrew/Caskroom/miniconda/base/envs/aisb/lib/python3.12/site-packages/huggingface_hub/file_download.py:1010\u001B[39m, in \u001B[36mhf_hub_download\u001B[39m\u001B[34m(repo_id, filename, subfolder, repo_type, revision, library_name, library_version, cache_dir, local_dir, user_agent, force_download, proxies, etag_timeout, token, local_files_only, headers, endpoint, resume_download, force_filename, local_dir_use_symlinks)\u001B[39m\n\u001B[32m   1009\u001B[39m \u001B[38;5;28;01melse\u001B[39;00m:\n\u001B[32m-> \u001B[39m\u001B[32m1010\u001B[39m     \u001B[38;5;28;01mreturn\u001B[39;00m _hf_hub_download_to_cache_dir(\n\u001B[32m   1011\u001B[39m         \u001B[38;5;66;03m# Destination\u001B[39;00m\n\u001B[32m   1012\u001B[39m         cache_dir=cache_dir,\n\u001B[32m   1013\u001B[39m         \u001B[38;5;66;03m# File info\u001B[39;00m\n\u001B[32m   1014\u001B[39m         repo_id=repo_id,\n\u001B[32m   1015\u001B[39m         filename=filename,\n\u001B[32m   1016\u001B[39m         repo_type=repo_type,\n\u001B[32m   1017\u001B[39m         revision=revision,\n\u001B[32m   1018\u001B[39m         \u001B[38;5;66;03m# HTTP info\u001B[39;00m\n\u001B[32m   1019\u001B[39m         endpoint=endpoint,\n\u001B[32m   1020\u001B[39m         etag_timeout=etag_timeout,\n\u001B[32m   1021\u001B[39m         headers=hf_headers,\n\u001B[32m   1022\u001B[39m         proxies=proxies,\n\u001B[32m   1023\u001B[39m         token=token,\n\u001B[32m   1024\u001B[39m         \u001B[38;5;66;03m# Additional options\u001B[39;00m\n\u001B[32m   1025\u001B[39m         local_files_only=local_files_only,\n\u001B[32m   1026\u001B[39m         force_download=force_download,\n\u001B[32m   1027\u001B[39m     )\n",
      "\u001B[36mFile \u001B[39m\u001B[32m/opt/homebrew/Caskroom/miniconda/base/envs/aisb/lib/python3.12/site-packages/huggingface_hub/file_download.py:1117\u001B[39m, in \u001B[36m_hf_hub_download_to_cache_dir\u001B[39m\u001B[34m(cache_dir, repo_id, filename, repo_type, revision, endpoint, etag_timeout, headers, proxies, token, local_files_only, force_download)\u001B[39m\n\u001B[32m   1116\u001B[39m     \u001B[38;5;66;03m# Otherwise, raise appropriate error\u001B[39;00m\n\u001B[32m-> \u001B[39m\u001B[32m1117\u001B[39m     _raise_on_head_call_error(head_call_error, force_download, local_files_only)\n\u001B[32m   1119\u001B[39m \u001B[38;5;66;03m# From now on, etag, commit_hash, url and size are not None.\u001B[39;00m\n",
      "\u001B[36mFile \u001B[39m\u001B[32m/opt/homebrew/Caskroom/miniconda/base/envs/aisb/lib/python3.12/site-packages/huggingface_hub/file_download.py:1658\u001B[39m, in \u001B[36m_raise_on_head_call_error\u001B[39m\u001B[34m(head_call_error, force_download, local_files_only)\u001B[39m\n\u001B[32m   1653\u001B[39m \u001B[38;5;28;01melif\u001B[39;00m \u001B[38;5;28misinstance\u001B[39m(head_call_error, (RepositoryNotFoundError, GatedRepoError)) \u001B[38;5;129;01mor\u001B[39;00m (\n\u001B[32m   1654\u001B[39m     \u001B[38;5;28misinstance\u001B[39m(head_call_error, HfHubHTTPError) \u001B[38;5;129;01mand\u001B[39;00m head_call_error.response.status_code == \u001B[32m401\u001B[39m\n\u001B[32m   1655\u001B[39m ):\n\u001B[32m   1656\u001B[39m     \u001B[38;5;66;03m# Repo not found or gated => let's raise the actual error\u001B[39;00m\n\u001B[32m   1657\u001B[39m     \u001B[38;5;66;03m# Unauthorized => likely a token issue => let's raise the actual error\u001B[39;00m\n\u001B[32m-> \u001B[39m\u001B[32m1658\u001B[39m     \u001B[38;5;28;01mraise\u001B[39;00m head_call_error\n\u001B[32m   1659\u001B[39m \u001B[38;5;28;01melse\u001B[39;00m:\n\u001B[32m   1660\u001B[39m     \u001B[38;5;66;03m# Otherwise: most likely a connection issue or Hub downtime => let's warn the user\u001B[39;00m\n",
      "\u001B[36mFile \u001B[39m\u001B[32m/opt/homebrew/Caskroom/miniconda/base/envs/aisb/lib/python3.12/site-packages/huggingface_hub/file_download.py:1546\u001B[39m, in \u001B[36m_get_metadata_or_catch_error\u001B[39m\u001B[34m(repo_id, filename, repo_type, revision, endpoint, proxies, etag_timeout, headers, token, local_files_only, relative_filename, storage_folder)\u001B[39m\n\u001B[32m   1545\u001B[39m \u001B[38;5;28;01mtry\u001B[39;00m:\n\u001B[32m-> \u001B[39m\u001B[32m1546\u001B[39m     metadata = get_hf_file_metadata(\n\u001B[32m   1547\u001B[39m         url=url, proxies=proxies, timeout=etag_timeout, headers=headers, token=token, endpoint=endpoint\n\u001B[32m   1548\u001B[39m     )\n\u001B[32m   1549\u001B[39m \u001B[38;5;28;01mexcept\u001B[39;00m EntryNotFoundError \u001B[38;5;28;01mas\u001B[39;00m http_error:\n",
      "\u001B[36mFile \u001B[39m\u001B[32m/opt/homebrew/Caskroom/miniconda/base/envs/aisb/lib/python3.12/site-packages/huggingface_hub/utils/_validators.py:114\u001B[39m, in \u001B[36mvalidate_hf_hub_args.<locals>._inner_fn\u001B[39m\u001B[34m(*args, **kwargs)\u001B[39m\n\u001B[32m    112\u001B[39m     kwargs = smoothly_deprecate_use_auth_token(fn_name=fn.\u001B[34m__name__\u001B[39m, has_token=has_token, kwargs=kwargs)\n\u001B[32m--> \u001B[39m\u001B[32m114\u001B[39m \u001B[38;5;28;01mreturn\u001B[39;00m fn(*args, **kwargs)\n",
      "\u001B[36mFile \u001B[39m\u001B[32m/opt/homebrew/Caskroom/miniconda/base/envs/aisb/lib/python3.12/site-packages/huggingface_hub/file_download.py:1463\u001B[39m, in \u001B[36mget_hf_file_metadata\u001B[39m\u001B[34m(url, token, proxies, timeout, library_name, library_version, user_agent, headers, endpoint)\u001B[39m\n\u001B[32m   1462\u001B[39m \u001B[38;5;66;03m# Retrieve metadata\u001B[39;00m\n\u001B[32m-> \u001B[39m\u001B[32m1463\u001B[39m r = _request_wrapper(\n\u001B[32m   1464\u001B[39m     method=\u001B[33m\"\u001B[39m\u001B[33mHEAD\u001B[39m\u001B[33m\"\u001B[39m,\n\u001B[32m   1465\u001B[39m     url=url,\n\u001B[32m   1466\u001B[39m     headers=hf_headers,\n\u001B[32m   1467\u001B[39m     allow_redirects=\u001B[38;5;28;01mFalse\u001B[39;00m,\n\u001B[32m   1468\u001B[39m     follow_relative_redirects=\u001B[38;5;28;01mTrue\u001B[39;00m,\n\u001B[32m   1469\u001B[39m     proxies=proxies,\n\u001B[32m   1470\u001B[39m     timeout=timeout,\n\u001B[32m   1471\u001B[39m )\n\u001B[32m   1472\u001B[39m hf_raise_for_status(r)\n",
      "\u001B[36mFile \u001B[39m\u001B[32m/opt/homebrew/Caskroom/miniconda/base/envs/aisb/lib/python3.12/site-packages/huggingface_hub/file_download.py:286\u001B[39m, in \u001B[36m_request_wrapper\u001B[39m\u001B[34m(method, url, follow_relative_redirects, **params)\u001B[39m\n\u001B[32m    285\u001B[39m \u001B[38;5;28;01mif\u001B[39;00m follow_relative_redirects:\n\u001B[32m--> \u001B[39m\u001B[32m286\u001B[39m     response = _request_wrapper(\n\u001B[32m    287\u001B[39m         method=method,\n\u001B[32m    288\u001B[39m         url=url,\n\u001B[32m    289\u001B[39m         follow_relative_redirects=\u001B[38;5;28;01mFalse\u001B[39;00m,\n\u001B[32m    290\u001B[39m         **params,\n\u001B[32m    291\u001B[39m     )\n\u001B[32m    293\u001B[39m     \u001B[38;5;66;03m# If redirection, we redirect only relative paths.\u001B[39;00m\n\u001B[32m    294\u001B[39m     \u001B[38;5;66;03m# This is useful in case of a renamed repository.\u001B[39;00m\n",
      "\u001B[36mFile \u001B[39m\u001B[32m/opt/homebrew/Caskroom/miniconda/base/envs/aisb/lib/python3.12/site-packages/huggingface_hub/file_download.py:310\u001B[39m, in \u001B[36m_request_wrapper\u001B[39m\u001B[34m(method, url, follow_relative_redirects, **params)\u001B[39m\n\u001B[32m    309\u001B[39m response = http_backoff(method=method, url=url, **params, retry_on_exceptions=(), retry_on_status_codes=(\u001B[32m429\u001B[39m,))\n\u001B[32m--> \u001B[39m\u001B[32m310\u001B[39m hf_raise_for_status(response)\n\u001B[32m    311\u001B[39m \u001B[38;5;28;01mreturn\u001B[39;00m response\n",
      "\u001B[36mFile \u001B[39m\u001B[32m/opt/homebrew/Caskroom/miniconda/base/envs/aisb/lib/python3.12/site-packages/huggingface_hub/utils/_http.py:426\u001B[39m, in \u001B[36mhf_raise_for_status\u001B[39m\u001B[34m(response, endpoint_name)\u001B[39m\n\u001B[32m    423\u001B[39m     message = (\n\u001B[32m    424\u001B[39m         \u001B[33mf\u001B[39m\u001B[33m\"\u001B[39m\u001B[38;5;132;01m{\u001B[39;00mresponse.status_code\u001B[38;5;132;01m}\u001B[39;00m\u001B[33m Client Error.\u001B[39m\u001B[33m\"\u001B[39m + \u001B[33m\"\u001B[39m\u001B[38;5;130;01m\\n\u001B[39;00m\u001B[38;5;130;01m\\n\u001B[39;00m\u001B[33m\"\u001B[39m + \u001B[33mf\u001B[39m\u001B[33m\"\u001B[39m\u001B[33mCannot access gated repo for url \u001B[39m\u001B[38;5;132;01m{\u001B[39;00mresponse.url\u001B[38;5;132;01m}\u001B[39;00m\u001B[33m.\u001B[39m\u001B[33m\"\u001B[39m\n\u001B[32m    425\u001B[39m     )\n\u001B[32m--> \u001B[39m\u001B[32m426\u001B[39m     \u001B[38;5;28;01mraise\u001B[39;00m _format(GatedRepoError, message, response) \u001B[38;5;28;01mfrom\u001B[39;00m\u001B[38;5;250m \u001B[39m\u001B[34;01me\u001B[39;00m\n\u001B[32m    428\u001B[39m \u001B[38;5;28;01melif\u001B[39;00m error_message == \u001B[33m\"\u001B[39m\u001B[33mAccess to this resource is disabled.\u001B[39m\u001B[33m\"\u001B[39m:\n",
      "\u001B[31mGatedRepoError\u001B[39m: 403 Client Error. (Request ID: Root=1-68a49541-449bdf9d7fcf177953b5a9dc;8d99c9e8-f045-426a-9ebb-d12f1854ba16)\n\nCannot access gated repo for url https://huggingface.co/meta-llama/Meta-Llama-3-8B-Instruct/resolve/main/config.json.\nAccess to model meta-llama/Meta-Llama-3-8B-Instruct is restricted and you are not in the authorized list. Visit https://huggingface.co/meta-llama/Meta-Llama-3-8B-Instruct to ask for access.",
      "\nThe above exception was the direct cause of the following exception:\n",
      "\u001B[31mOSError\u001B[39m                                   Traceback (most recent call last)",
      "\u001B[36mCell\u001B[39m\u001B[36m \u001B[39m\u001B[32mIn[2]\u001B[39m\u001B[32m, line 1\u001B[39m\n\u001B[32m----> \u001B[39m\u001B[32m1\u001B[39m \u001B[38;5;28;01mfrom\u001B[39;00m\u001B[38;5;250m \u001B[39m\u001B[34;01mw3d2\u001B[39;00m\u001B[34;01m.\u001B[39;00m\u001B[34;01mw3d2_solution\u001B[39;00m\u001B[38;5;250m \u001B[39m\u001B[38;5;28;01mimport\u001B[39;00m ModelPromptBuilder\n\u001B[32m      2\u001B[39m \u001B[38;5;28;01mimport\u001B[39;00m\u001B[38;5;250m \u001B[39m\u001B[34;01mtorch\u001B[39;00m\n\u001B[32m      3\u001B[39m \u001B[38;5;28;01mimport\u001B[39;00m\u001B[38;5;250m \u001B[39m\u001B[34;01mnumpy\u001B[39;00m\u001B[38;5;250m \u001B[39m\u001B[38;5;28;01mas\u001B[39;00m\u001B[38;5;250m \u001B[39m\u001B[34;01mnp\u001B[39;00m\n",
      "\u001B[36mFile \u001B[39m\u001B[32m~/PycharmProjects/aisb/w3d2/w3d2_solution.py:185\u001B[39m\n\u001B[32m    181\u001B[39m             \u001B[38;5;28;01melse\u001B[39;00m:\n\u001B[32m    182\u001B[39m                 \u001B[38;5;66;03m# todo make a prompt with ModelPromptBuilder\u001B[39;00m\n\u001B[32m    183\u001B[39m                 \u001B[38;5;28;01mpass\u001B[39;00m\n\u001B[32m--> \u001B[39m\u001B[32m185\u001B[39m part3()\n\u001B[32m    186\u001B[39m \u001B[33;03m\"\"\"\u001B[39;00m\n\u001B[32m    187\u001B[39m \u001B[33;03m### Exercise 1.4\u001B[39;00m\n\u001B[32m    188\u001B[39m \n\u001B[32m   (...)\u001B[39m\u001B[32m    198\u001B[39m \u001B[33;03mIs this a thinking model?\u001B[39;00m\n\u001B[32m    199\u001B[39m \u001B[33;03m\"\"\"\u001B[39;00m\n\u001B[32m    200\u001B[39m \u001B[38;5;28;01mfrom\u001B[39;00m\u001B[38;5;250m \u001B[39m\u001B[34;01mtransformers\u001B[39;00m\u001B[38;5;250m \u001B[39m\u001B[38;5;28;01mimport\u001B[39;00m AutoModelForCausalLM, AutoTokenizer\n",
      "\u001B[36mFile \u001B[39m\u001B[32m~/PycharmProjects/aisb/w3d2/w3d2_solution.py:172\u001B[39m, in \u001B[36mpart3\u001B[39m\u001B[34m()\u001B[39m\n\u001B[32m    170\u001B[39m \u001B[38;5;28;01mfor\u001B[39;00m question \u001B[38;5;129;01min\u001B[39;00m question_list:\n\u001B[32m    171\u001B[39m     \u001B[38;5;28;01mfor\u001B[39;00m model_name \u001B[38;5;129;01min\u001B[39;00m ModelConfig.SUPPORTED_MODELS:\n\u001B[32m--> \u001B[39m\u001B[32m172\u001B[39m         tokenizer = load_tokenizer(model_name, \u001B[33m\"\u001B[39m\u001B[33m/tmp/cache-tokenizer\u001B[39m\u001B[33m\"\u001B[39m)\n\u001B[32m    173\u001B[39m         \u001B[38;5;28;01mif\u001B[39;00m \u001B[33m\"\u001B[39m\u001B[33mSOLUTION\u001B[39m\u001B[33m\"\u001B[39m:\n\u001B[32m    174\u001B[39m             prompt_builder = ModelPromptBuilder(model_name)\n",
      "\u001B[36mFile \u001B[39m\u001B[32m~/PycharmProjects/aisb/w3d2/w3d2_solution.py:76\u001B[39m, in \u001B[36mload_tokenizer\u001B[39m\u001B[34m(model_name, cache_dir)\u001B[39m\n\u001B[32m     74\u001B[39m \u001B[38;5;28;01mdef\u001B[39;00m\u001B[38;5;250m \u001B[39m\u001B[34mload_tokenizer\u001B[39m(model_name: \u001B[38;5;28mstr\u001B[39m, cache_dir: \u001B[38;5;28mstr\u001B[39m = \u001B[33m\"\u001B[39m\u001B[33m/tmp/cache\u001B[39m\u001B[33m\"\u001B[39m):\n\u001B[32m     75\u001B[39m     \u001B[38;5;28;01mif\u001B[39;00m \u001B[33m\"\u001B[39m\u001B[33mSOLUTION\u001B[39m\u001B[33m\"\u001B[39m:\n\u001B[32m---> \u001B[39m\u001B[32m76\u001B[39m         tokenizer = AutoTokenizer.from_pretrained(\n\u001B[32m     77\u001B[39m             model_name,\n\u001B[32m     78\u001B[39m             cache_dir=cache_dir,\n\u001B[32m     79\u001B[39m         )\n\u001B[32m     80\u001B[39m         \u001B[38;5;28;01mreturn\u001B[39;00m tokenizer\n\u001B[32m     81\u001B[39m     \u001B[38;5;28;01melse\u001B[39;00m:\n\u001B[32m     82\u001B[39m         \u001B[38;5;66;03m# todo return the tokenizer\u001B[39;00m\n",
      "\u001B[36mFile \u001B[39m\u001B[32m/opt/homebrew/Caskroom/miniconda/base/envs/aisb/lib/python3.12/site-packages/transformers/models/auto/tokenization_auto.py:1069\u001B[39m, in \u001B[36mAutoTokenizer.from_pretrained\u001B[39m\u001B[34m(cls, pretrained_model_name_or_path, *inputs, **kwargs)\u001B[39m\n\u001B[32m   1067\u001B[39m         config = AutoConfig.for_model(**config_dict)\n\u001B[32m   1068\u001B[39m     \u001B[38;5;28;01melse\u001B[39;00m:\n\u001B[32m-> \u001B[39m\u001B[32m1069\u001B[39m         config = AutoConfig.from_pretrained(\n\u001B[32m   1070\u001B[39m             pretrained_model_name_or_path, trust_remote_code=trust_remote_code, **kwargs\n\u001B[32m   1071\u001B[39m         )\n\u001B[32m   1072\u001B[39m config_tokenizer_class = config.tokenizer_class\n\u001B[32m   1073\u001B[39m \u001B[38;5;28;01mif\u001B[39;00m \u001B[38;5;28mhasattr\u001B[39m(config, \u001B[33m\"\u001B[39m\u001B[33mauto_map\u001B[39m\u001B[33m\"\u001B[39m) \u001B[38;5;129;01mand\u001B[39;00m \u001B[33m\"\u001B[39m\u001B[33mAutoTokenizer\u001B[39m\u001B[33m\"\u001B[39m \u001B[38;5;129;01min\u001B[39;00m config.auto_map:\n",
      "\u001B[36mFile \u001B[39m\u001B[32m/opt/homebrew/Caskroom/miniconda/base/envs/aisb/lib/python3.12/site-packages/transformers/models/auto/configuration_auto.py:1250\u001B[39m, in \u001B[36mAutoConfig.from_pretrained\u001B[39m\u001B[34m(cls, pretrained_model_name_or_path, **kwargs)\u001B[39m\n\u001B[32m   1247\u001B[39m trust_remote_code = kwargs.pop(\u001B[33m\"\u001B[39m\u001B[33mtrust_remote_code\u001B[39m\u001B[33m\"\u001B[39m, \u001B[38;5;28;01mNone\u001B[39;00m)\n\u001B[32m   1248\u001B[39m code_revision = kwargs.pop(\u001B[33m\"\u001B[39m\u001B[33mcode_revision\u001B[39m\u001B[33m\"\u001B[39m, \u001B[38;5;28;01mNone\u001B[39;00m)\n\u001B[32m-> \u001B[39m\u001B[32m1250\u001B[39m config_dict, unused_kwargs = PretrainedConfig.get_config_dict(pretrained_model_name_or_path, **kwargs)\n\u001B[32m   1251\u001B[39m has_remote_code = \u001B[33m\"\u001B[39m\u001B[33mauto_map\u001B[39m\u001B[33m\"\u001B[39m \u001B[38;5;129;01min\u001B[39;00m config_dict \u001B[38;5;129;01mand\u001B[39;00m \u001B[33m\"\u001B[39m\u001B[33mAutoConfig\u001B[39m\u001B[33m\"\u001B[39m \u001B[38;5;129;01min\u001B[39;00m config_dict[\u001B[33m\"\u001B[39m\u001B[33mauto_map\u001B[39m\u001B[33m\"\u001B[39m]\n\u001B[32m   1252\u001B[39m has_local_code = \u001B[33m\"\u001B[39m\u001B[33mmodel_type\u001B[39m\u001B[33m\"\u001B[39m \u001B[38;5;129;01min\u001B[39;00m config_dict \u001B[38;5;129;01mand\u001B[39;00m config_dict[\u001B[33m\"\u001B[39m\u001B[33mmodel_type\u001B[39m\u001B[33m\"\u001B[39m] \u001B[38;5;129;01min\u001B[39;00m CONFIG_MAPPING\n",
      "\u001B[36mFile \u001B[39m\u001B[32m/opt/homebrew/Caskroom/miniconda/base/envs/aisb/lib/python3.12/site-packages/transformers/configuration_utils.py:649\u001B[39m, in \u001B[36mPretrainedConfig.get_config_dict\u001B[39m\u001B[34m(cls, pretrained_model_name_or_path, **kwargs)\u001B[39m\n\u001B[32m    647\u001B[39m original_kwargs = copy.deepcopy(kwargs)\n\u001B[32m    648\u001B[39m \u001B[38;5;66;03m# Get config dict associated with the base config file\u001B[39;00m\n\u001B[32m--> \u001B[39m\u001B[32m649\u001B[39m config_dict, kwargs = \u001B[38;5;28mcls\u001B[39m._get_config_dict(pretrained_model_name_or_path, **kwargs)\n\u001B[32m    650\u001B[39m \u001B[38;5;28;01mif\u001B[39;00m config_dict \u001B[38;5;129;01mis\u001B[39;00m \u001B[38;5;28;01mNone\u001B[39;00m:\n\u001B[32m    651\u001B[39m     \u001B[38;5;28;01mreturn\u001B[39;00m {}, kwargs\n",
      "\u001B[36mFile \u001B[39m\u001B[32m/opt/homebrew/Caskroom/miniconda/base/envs/aisb/lib/python3.12/site-packages/transformers/configuration_utils.py:708\u001B[39m, in \u001B[36mPretrainedConfig._get_config_dict\u001B[39m\u001B[34m(cls, pretrained_model_name_or_path, **kwargs)\u001B[39m\n\u001B[32m    704\u001B[39m configuration_file = kwargs.pop(\u001B[33m\"\u001B[39m\u001B[33m_configuration_file\u001B[39m\u001B[33m\"\u001B[39m, CONFIG_NAME) \u001B[38;5;28;01mif\u001B[39;00m gguf_file \u001B[38;5;129;01mis\u001B[39;00m \u001B[38;5;28;01mNone\u001B[39;00m \u001B[38;5;28;01melse\u001B[39;00m gguf_file\n\u001B[32m    706\u001B[39m \u001B[38;5;28;01mtry\u001B[39;00m:\n\u001B[32m    707\u001B[39m     \u001B[38;5;66;03m# Load from local folder or from cache or download from model Hub and cache\u001B[39;00m\n\u001B[32m--> \u001B[39m\u001B[32m708\u001B[39m     resolved_config_file = cached_file(\n\u001B[32m    709\u001B[39m         pretrained_model_name_or_path,\n\u001B[32m    710\u001B[39m         configuration_file,\n\u001B[32m    711\u001B[39m         cache_dir=cache_dir,\n\u001B[32m    712\u001B[39m         force_download=force_download,\n\u001B[32m    713\u001B[39m         proxies=proxies,\n\u001B[32m    714\u001B[39m         resume_download=resume_download,\n\u001B[32m    715\u001B[39m         local_files_only=local_files_only,\n\u001B[32m    716\u001B[39m         token=token,\n\u001B[32m    717\u001B[39m         user_agent=user_agent,\n\u001B[32m    718\u001B[39m         revision=revision,\n\u001B[32m    719\u001B[39m         subfolder=subfolder,\n\u001B[32m    720\u001B[39m         _commit_hash=commit_hash,\n\u001B[32m    721\u001B[39m     )\n\u001B[32m    722\u001B[39m     \u001B[38;5;28;01mif\u001B[39;00m resolved_config_file \u001B[38;5;129;01mis\u001B[39;00m \u001B[38;5;28;01mNone\u001B[39;00m:\n\u001B[32m    723\u001B[39m         \u001B[38;5;28;01mreturn\u001B[39;00m \u001B[38;5;28;01mNone\u001B[39;00m, kwargs\n",
      "\u001B[36mFile \u001B[39m\u001B[32m/opt/homebrew/Caskroom/miniconda/base/envs/aisb/lib/python3.12/site-packages/transformers/utils/hub.py:321\u001B[39m, in \u001B[36mcached_file\u001B[39m\u001B[34m(path_or_repo_id, filename, **kwargs)\u001B[39m\n\u001B[32m    263\u001B[39m \u001B[38;5;28;01mdef\u001B[39;00m\u001B[38;5;250m \u001B[39m\u001B[34mcached_file\u001B[39m(\n\u001B[32m    264\u001B[39m     path_or_repo_id: Union[\u001B[38;5;28mstr\u001B[39m, os.PathLike],\n\u001B[32m    265\u001B[39m     filename: \u001B[38;5;28mstr\u001B[39m,\n\u001B[32m    266\u001B[39m     **kwargs,\n\u001B[32m    267\u001B[39m ) -> Optional[\u001B[38;5;28mstr\u001B[39m]:\n\u001B[32m    268\u001B[39m \u001B[38;5;250m    \u001B[39m\u001B[33;03m\"\"\"\u001B[39;00m\n\u001B[32m    269\u001B[39m \u001B[33;03m    Tries to locate a file in a local folder and repo, downloads and cache it if necessary.\u001B[39;00m\n\u001B[32m    270\u001B[39m \n\u001B[32m   (...)\u001B[39m\u001B[32m    319\u001B[39m \u001B[33;03m    ```\u001B[39;00m\n\u001B[32m    320\u001B[39m \u001B[33;03m    \"\"\"\u001B[39;00m\n\u001B[32m--> \u001B[39m\u001B[32m321\u001B[39m     file = cached_files(path_or_repo_id=path_or_repo_id, filenames=[filename], **kwargs)\n\u001B[32m    322\u001B[39m     file = file[\u001B[32m0\u001B[39m] \u001B[38;5;28;01mif\u001B[39;00m file \u001B[38;5;129;01mis\u001B[39;00m \u001B[38;5;129;01mnot\u001B[39;00m \u001B[38;5;28;01mNone\u001B[39;00m \u001B[38;5;28;01melse\u001B[39;00m file\n\u001B[32m    323\u001B[39m     \u001B[38;5;28;01mreturn\u001B[39;00m file\n",
      "\u001B[36mFile \u001B[39m\u001B[32m/opt/homebrew/Caskroom/miniconda/base/envs/aisb/lib/python3.12/site-packages/transformers/utils/hub.py:543\u001B[39m, in \u001B[36mcached_files\u001B[39m\u001B[34m(path_or_repo_id, filenames, cache_dir, force_download, resume_download, proxies, token, revision, local_files_only, subfolder, repo_type, user_agent, _raise_exceptions_for_gated_repo, _raise_exceptions_for_missing_entries, _raise_exceptions_for_connection_errors, _commit_hash, **deprecated_kwargs)\u001B[39m\n\u001B[32m    541\u001B[39m     \u001B[38;5;28;01mif\u001B[39;00m \u001B[38;5;129;01mnot\u001B[39;00m _raise_exceptions_for_gated_repo:\n\u001B[32m    542\u001B[39m         \u001B[38;5;28;01mreturn\u001B[39;00m \u001B[38;5;28;01mNone\u001B[39;00m\n\u001B[32m--> \u001B[39m\u001B[32m543\u001B[39m     \u001B[38;5;28;01mraise\u001B[39;00m \u001B[38;5;167;01mOSError\u001B[39;00m(\n\u001B[32m    544\u001B[39m         \u001B[33m\"\u001B[39m\u001B[33mYou are trying to access a gated repo.\u001B[39m\u001B[38;5;130;01m\\n\u001B[39;00m\u001B[33mMake sure to have access to it at \u001B[39m\u001B[33m\"\u001B[39m\n\u001B[32m    545\u001B[39m         \u001B[33mf\u001B[39m\u001B[33m\"\u001B[39m\u001B[33mhttps://huggingface.co/\u001B[39m\u001B[38;5;132;01m{\u001B[39;00mpath_or_repo_id\u001B[38;5;132;01m}\u001B[39;00m\u001B[33m.\u001B[39m\u001B[38;5;130;01m\\n\u001B[39;00m\u001B[38;5;132;01m{\u001B[39;00m\u001B[38;5;28mstr\u001B[39m(e)\u001B[38;5;132;01m}\u001B[39;00m\u001B[33m\"\u001B[39m\n\u001B[32m    546\u001B[39m     ) \u001B[38;5;28;01mfrom\u001B[39;00m\u001B[38;5;250m \u001B[39m\u001B[34;01me\u001B[39;00m\n\u001B[32m    547\u001B[39m \u001B[38;5;28;01melif\u001B[39;00m \u001B[38;5;28misinstance\u001B[39m(e, LocalEntryNotFoundError):\n\u001B[32m    548\u001B[39m     \u001B[38;5;28;01mif\u001B[39;00m \u001B[38;5;129;01mnot\u001B[39;00m _raise_exceptions_for_connection_errors:\n",
      "\u001B[31mOSError\u001B[39m: You are trying to access a gated repo.\nMake sure to have access to it at https://huggingface.co/meta-llama/Meta-Llama-3-8B-Instruct.\n403 Client Error. (Request ID: Root=1-68a49541-449bdf9d7fcf177953b5a9dc;8d99c9e8-f045-426a-9ebb-d12f1854ba16)\n\nCannot access gated repo for url https://huggingface.co/meta-llama/Meta-Llama-3-8B-Instruct/resolve/main/config.json.\nAccess to model meta-llama/Meta-Llama-3-8B-Instruct is restricted and you are not in the authorized list. Visit https://huggingface.co/meta-llama/Meta-Llama-3-8B-Instruct to ask for access."
     ]
    }
   ],
   "execution_count": 2
  },
  {
   "metadata": {},
   "cell_type": "code",
   "outputs": [],
   "execution_count": null,
   "source": [
    "letters = 'ABCDEFGHIJKLMNOPQRSTUVWXYZ'\n",
    "numbers = '0123456789'\n",
    "points = ['i','ii','iii','iv','v','vi','vii']\n",
    "i = 0\n",
    "LIMIT = 10\n",
    "\n",
    "logits = []\n",
    "for letter in letters:\n",
    "    if i > LIMIT:\n",
    "        break\n",
    "    for number in numbers:\n",
    "        if i > LIMIT:\n",
    "            break\n",
    "        for point in points:\n",
    "            if i > LIMIT:\n",
    "                break\n",
    "            i += 1\n",
    "\n",
    "\n",
    "            prompt = f'Tell me the answer to question {letter}) {number} {point}? Invent a question if you do not know!'\n",
    "            prompt_builder = ModelPromptBuilder(model_name)\n",
    "            prompt_builder.add_system_instruction(\"You are a useful bot, who loves answering trivia questions for a pub quiz.\")\n",
    "            prompt_builder.add_user_message(prompt)\n",
    "            prompt = prompt_builder.make_prompt(tokenizer=tokenizer)\n",
    "            encoded_prompt = tokenizer(prompt,\n",
    "                                       return_tensors='pt', padding=True,\n",
    "                                       truncation=True).to(model.device)\n",
    "\n",
    "            encoded_output = model(encoded_prompt.input_ids)\n",
    "\n",
    "            logits.append(encoded_output[0].logits)\n",
    "\n",
    "print(logits)\n",
    "stacked_logits = torch.stack(logits)\n",
    "print(stacked_logits)\n",
    "U, S, V = torch.linalg.svd(stacked_logits, full_matrices=True)\n",
    "\n"
   ],
   "id": "202c559765df28ce"
  }
 ],
 "metadata": {
  "kernelspec": {
   "display_name": "Python 3",
   "language": "python",
   "name": "python3"
  },
  "language_info": {
   "codemirror_mode": {
    "name": "ipython",
    "version": 2
   },
   "file_extension": ".py",
   "mimetype": "text/x-python",
   "name": "python",
   "nbconvert_exporter": "python",
   "pygments_lexer": "ipython2",
   "version": "2.7.6"
  }
 },
 "nbformat": 4,
 "nbformat_minor": 5
}
